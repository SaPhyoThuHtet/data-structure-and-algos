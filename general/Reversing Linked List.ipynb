{
 "cells": [
  {
   "cell_type": "code",
   "execution_count": 48,
   "id": "02cdbcce",
   "metadata": {},
   "outputs": [],
   "source": [
    "class Node:\n",
    "    \n",
    "    def __init__(self, data):\n",
    "        self.data = data\n",
    "        self.next = None\n",
    "    \n",
    "    \n",
    "class LinkedList:\n",
    "    \n",
    "    def __init__(self):\n",
    "        self.head = None\n",
    "        \n",
    "    def reverse(self):\n",
    "         previous = self.head\n",
    "         temp1 = self.head\n",
    "         node = self.head.next\n",
    "\n",
    "         while(node != None):\n",
    "             temp = node\n",
    "             node = node.next\n",
    "             temp.next = previous\n",
    "             previous = temp\n",
    "         temp1.next = None\n",
    "         self.head = temp\n",
    "        \n",
    "    def print_nodes(self):\n",
    "        node = self.head\n",
    "        while(node != None):\n",
    "            print(node.data)\n",
    "            node = node.next\n",
    "        \n",
    "        \n",
    "linklist = LinkedList()\n",
    "first_node = Node(1)\n",
    "second_node = Node(2)\n",
    "third_node = Node(3)\n",
    "first_node.next = second_node\n",
    "second_node.next = third_node\n",
    "\n",
    "linklist.head = first_node\n",
    "\n",
    "linklist.reverse()\n",
    "print(\"=========================\")\n",
    "linklist.print_nodes()"
   ]
  },
  {
   "cell_type": "code",
   "execution_count": 53,
   "id": "c2e124ad",
   "metadata": {},
   "outputs": [],
   "source": [
    "llist = LinkedList()\n",
    "first_node = Node(3)\n",
    "llist.head = first_node\n",
    "\n",
    "second_node = Node(2)\n",
    "first_node.next = second_node"
   ]
  },
  {
   "cell_type": "code",
   "execution_count": 54,
   "id": "502a5bb9",
   "metadata": {},
   "outputs": [
    {
     "data": {
      "text/plain": [
       "<__main__.Node at 0x7fc7e425b630>"
      ]
     },
     "execution_count": 54,
     "metadata": {},
     "output_type": "execute_result"
    }
   ],
   "source": [
    "llist.head"
   ]
  },
  {
   "cell_type": "code",
   "execution_count": null,
   "id": "7360e4d9",
   "metadata": {},
   "outputs": [],
   "source": []
  }
 ],
 "metadata": {
  "kernelspec": {
   "display_name": "Python 3",
   "language": "python",
   "name": "python3"
  },
  "language_info": {
   "codemirror_mode": {
    "name": "ipython",
    "version": 3
   },
   "file_extension": ".py",
   "mimetype": "text/x-python",
   "name": "python",
   "nbconvert_exporter": "python",
   "pygments_lexer": "ipython3",
   "version": "3.6.9"
  }
 },
 "nbformat": 4,
 "nbformat_minor": 5
}
