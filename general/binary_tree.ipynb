class Node:
    
    def __init__(self, data):
        self.left = None
        self.right = None
        self.data = data
        
    def insert(self, data): # Important
        if self.data:
            if data < self.data:
                if self.left is None:
                    self.left = Node(data)
                else:
                    self.left.insert(data)
            elif data > self.data:
                if self.right is None:
                    self.right = Node(data)
                else:
                    self.right.insert(data)
            
        else:
            self.data = data
        
    def printTree(self):
        print(self.data)
        
root = Node(10)
root.insert(6)
root.insert(3)
root.insert(12)
root.insert(20)
root.printTree()
