{
 "cells": [
  {
   "cell_type": "code",
   "execution_count": 13,
   "id": "58058fbc",
   "metadata": {},
   "outputs": [],
   "source": [
    "class Node:\n",
    "    \n",
    "    def __init__(self, data):\n",
    "        self.data = data\n",
    "        self.next = None\n",
    "    \n",
    "    \n",
    "class LinkedList:\n",
    "    \n",
    "    def __init__(self):\n",
    "        self.head = None\n",
    "        \n",
    "    def reverse(self):\n",
    "        temp = self.head\n",
    "        temp.next = None\n",
    "        current = self.head.next\n",
    "        \n",
    "        while(current):\n",
    "            temp2 = current\n",
    "            temp2.next = temp\n",
    "            temp = temp2\n",
    "            current = current.next\n",
    "            \n",
    "        \n",
    "        \n",
    "    def traverse(self):\n",
    "        current = self.head\n",
    "        while(current):\n",
    "            print(current)\n",
    "            print(current.data)\n",
    "            print(current.next)\n",
    "            current = current.next"
   ]
  }
 ],
 "metadata": {
  "kernelspec": {
   "display_name": "Python 3",
   "language": "python",
   "name": "python3"
  },
  "language_info": {
   "codemirror_mode": {
    "name": "ipython",
    "version": 3
   },
   "file_extension": ".py",
   "mimetype": "text/x-python",
   "name": "python",
   "nbconvert_exporter": "python",
   "pygments_lexer": "ipython3",
   "version": "3.6.9"
  }
 },
 "nbformat": 4,
 "nbformat_minor": 5
}
