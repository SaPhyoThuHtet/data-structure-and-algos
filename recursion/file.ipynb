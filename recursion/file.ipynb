{
 "cells": [
  {
   "cell_type": "markdown",
   "id": "a1b13182",
   "metadata": {},
   "source": [
    "**\"AI\" ကို လုပ်ဖို့ရာ Recursive အကြာင်းလည်း သိရင် ကောင်းတယ်။**\n",
    "\n",
   ]
  },
  {
   "cell_type": "code",
   "execution_count": null,
   "id": "a656cf62",
   "metadata": {},
   "outputs": [],
   "source": [
    "GeeksforGeeks ကနေ Direct Recursion နဲ့ Indirect Recursion ကို ခုလိုပဲ နှိုင်းယှဉ်ပြထားတယ်။\n"
   ]
  },
  {
   "cell_type": "markdown",
   "id": "f580a21c",
   "metadata": {},
   "source": [
    "Ref: https://www.geeksforgeeks.org/recursion/\n",
    "\n",
    "// An example of direct recursion\n",
    "void directRecFun()\n",
    "{\n",
    "    // Some code....\n",
    "\n",
    "    directRecFun();\n",
    "\n",
    "    // Some code...\n",
    "}\n",
    "\n",
    "// An example of indirect recursion\n",
    "void indirectRecFun1()\n",
    "{\n",
    "    // Some code...\n",
    "\n",
    "    indirectRecFun2();\n",
    "\n",
    "    // Some code...\n",
    "}\n",
    "void indirectRecFun2()\n",
    "{\n",
    "    // Some code...\n",
    "\n",
    "    indirectRecFun1();\n",
    "\n",
    "    // Some code...\n",
    "}"
   ]
  },
  {
   "cell_type": "markdown",
   "id": "2864326a",
   "metadata": {},
   "source": [
    "(1) Add first n numbers"
   ]
  },
  {
   "cell_type": "code",
   "execution_count": 29,
   "id": "32cc2b5a",
   "metadata": {},
   "outputs": [],
   "source": [
    "def add_first_n_numbers(n):\n",
    "    \n",
    "    if n == 1:\n",
    "        return 1\n",
    "    \n",
    "    else:\n",
    "        return n+add_first_n_numbers(n-1)"
   ]
  },
  {
   "cell_type": "code",
   "execution_count": 31,
   "id": "2bf8f661",
   "metadata": {},
   "outputs": [
    {
     "data": {
      "text/plain": [
       "10"
      ]
     },
     "execution_count": 31,
     "metadata": {},
     "output_type": "execute_result"
    }
   ],
   "source": [
    "add_first_n_numbers(4)"
   ]
  },
  {
   "cell_type": "markdown",
   "id": "628797b2",
   "metadata": {},
   "source": [
    "(2) Add first n odd numbers"
   ]
  },
  {
   "cell_type": "code",
   "execution_count": 57,
   "id": "e13f1340",
   "metadata": {},
   "outputs": [],
   "source": [
    "def add_first_n_odd_numbers(n):\n",
    "    \n",
    "    if n == 0:\n",
    "        return 0\n",
    "    \n",
    "    else:\n",
    "        return (n+(n-1)) + add_first_n_odd_numbers(n-1)"
   ]
  },
  {
   "cell_type": "code",
   "execution_count": 58,
   "id": "d47c28f9",
   "metadata": {},
   "outputs": [
    {
     "data": {
      "text/plain": [
       "9"
      ]
     },
     "execution_count": 58,
     "metadata": {},
     "output_type": "execute_result"
    }
   ],
   "source": [
    "add_first_n_odd_numbers(3)"
   ]
  },
  {
   "cell_type": "markdown",
   "id": "b799b866",
   "metadata": {},
   "source": [
    "(3) Add first n odd numbers"
   ]
  },
  {
   "cell_type": "code",
   "execution_count": 49,
   "id": "265e0c84",
   "metadata": {},
   "outputs": [],
   "source": [
    "def add_first_n_even_numbers(n):\n",
    "    \n",
    "    if n == 0:\n",
    "        return 0\n",
    "    \n",
    "    else:\n",
    "        return ((n+n)+ add_first_n_even_numbers(n-1))"
   ]
  },
  {
   "cell_type": "code",
   "execution_count": 56,
   "id": "d2c958bc",
   "metadata": {},
   "outputs": [
    {
     "data": {
      "text/plain": [
       "72"
      ]
     },
     "execution_count": 56,
     "metadata": {},
     "output_type": "execute_result"
    }
   ],
   "source": [
    "add_first_n_even_numbers(8)"
   ]
  },
  {
   "cell_type": "code",
   "execution_count": 8,
   "id": "6d88dd86",
   "metadata": {},
   "outputs": [],
   "source": [
    "def fibonacci(n):\n",
    "    if (n == 0):\n",
    "        return 0\n",
    "    if (n == 1 or n == 2):\n",
    "        return 1\n",
    "    else:\n",
    "        return fibonacci(n-1)+ fibonacci(n-2)"
   ]
  },
  {
   "cell_type": "code",
   "execution_count": 9,
   "id": "3be843ab",
   "metadata": {},
   "outputs": [
    {
     "data": {
      "text/plain": [
       "3"
      ]
     },
     "execution_count": 9,
     "metadata": {},
     "output_type": "execute_result"
    }
   ],
   "source": [
    "fibonacci(4)"
   ]
  },
  {
   "cell_type": "markdown",
   "id": "70a0862d",
   "metadata": {},
   "source": [
    "(4) Factorial"
   ]
  },
  {
   "cell_type": "code",
   "execution_count": 1,
   "id": "054ad135",
   "metadata": {},
   "outputs": [],
   "source": [
    "def factorial(n):\n",
    "    \n",
    "    if (n==0 or n ==1):\n",
    "        return 1\n",
    "    else:\n",
    "        return n*factorial(n-1)"
   ]
  },
  {
   "cell_type": "code",
   "execution_count": 3,
   "id": "9b8a4931",
   "metadata": {},
   "outputs": [
    {
     "data": {
      "text/plain": [
       "24"
      ]
     },
     "execution_count": 3,
     "metadata": {},
     "output_type": "execute_result"
    }
   ],
   "source": [
    "factorial(4)"
   ]
  },
  {
   "cell_type": "markdown",
   "id": "621b4270",
   "metadata": {},
   "source": [
    "(5) Reverse String (String ကို Recursion နဲ့ ပြောင်းပြန်လှန်ကြည့်ကြမယ်။)"
   ]
  },
  {
   "cell_type": "code",
   "execution_count": 3,
   "id": "40e221c1",
   "metadata": {},
   "outputs": [],
   "source": [
    "def reverse_string(data):\n",
    "    if len(data) == 0:\n",
    "        return \"\"\n",
    "    else: return reverse_string(data[1:])+data[0]"
   ]
  },
  {
   "cell_type": "code",
   "execution_count": 4,
   "id": "f0a0c9d6",
   "metadata": {},
   "outputs": [
    {
     "data": {
      "text/plain": [
       "'cba'"
      ]
     },
     "execution_count": 4,
     "metadata": {},
     "output_type": "execute_result"
    }
   ],
   "source": [
    "reverse_string(\"abc\")"
   ]
  },
  {
   "cell_type": "code",
   "execution_count": 5,
   "id": "9f010cef",
   "metadata": {},
   "outputs": [
    {
     "data": {
      "text/plain": [
       "'yrraH ma I'"
      ]
     },
     "execution_count": 5,
     "metadata": {},
     "output_type": "execute_result"
    }
   ],
   "source": [
    "reverse_string(\"I am Harry\")"
   ]
  },
  {
   "cell_type": "markdown",
   "id": "4dc58fb3",
   "metadata": {},
   "source": [
    "(6) palindrome \n",
    "\n",
    "ပြောင်းပြန်ပြန်လဲ ဒါပဲ ပြန်ရတဲ့ Case မျိုး\n",
    "aa\n",
    "aba\n"
   ]
  },
  {
   "cell_type": "code",
   "execution_count": 23,
   "id": "4fdd341a",
   "metadata": {},
   "outputs": [],
   "source": [
    "def palindrome(data):\n",
    "    print(data)\n",
    "    if(len(data)==0 or len(data)==1):# 0for even-length case, 1 for odd-length case\n",
    "        return(True)\n",
    "        \n",
    "    else:\n",
    "        if data[0]==data[-1]:\n",
    "            return(palindrome(data[1:-1]))\n",
    "        else:\n",
    "            return(False)"
   ]
  },
  {
   "cell_type": "code",
   "execution_count": 24,
   "id": "cccef2b2",
   "metadata": {},
   "outputs": [
    {
     "name": "stdout",
     "output_type": "stream",
     "text": [
      "abac\n"
     ]
    }
   ],
   "source": [
    "result = palindrome(\"abac\")"
   ]
  },
  {
   "cell_type": "code",
   "execution_count": 25,
   "id": "f94fcb42",
   "metadata": {},
   "outputs": [
    {
     "name": "stdout",
     "output_type": "stream",
     "text": [
      "False\n"
     ]
    }
   ],
   "source": [
    "print(result)"
   ]
  },
  {
   "cell_type": "code",
   "execution_count": 29,
   "id": "694c9d93",
   "metadata": {},
   "outputs": [
    {
     "name": "stdout",
     "output_type": "stream",
     "text": [
      "racecar\n",
      "aceca\n",
      "cec\n",
      "e\n",
      "\n",
      "True\n"
     ]
    }
   ],
   "source": [
    "racecar = palindrome(\"racecar\")\n",
    "print()\n",
    "print(racecar)"
   ]
  },
  {
   "cell_type": "markdown",
   "id": "f62ce655",
   "metadata": {},
   "source": [
    "(7) Decimal to Binary"
   ]
  },
  {
   "cell_type": "code",
   "execution_count": 2,
   "id": "c19b6cce",
   "metadata": {},
   "outputs": [],
   "source": [
    "def decimal_2_binary(n):\n",
    "    \n",
    "    if (n<2):\n",
    "        print(n)\n",
    "        return \"1\"\n",
    "    else:\n",
    "        return decimal_2_binary(n//2)+str(n%2)\n",
    "    \n",
    "    "
   ]
  },
  {
   "cell_type": "code",
   "execution_count": 4,
   "id": "0bc8fd8e",
   "metadata": {},
   "outputs": [
    {
     "name": "stdout",
     "output_type": "stream",
     "text": [
      "1\n"
     ]
    },
    {
     "data": {
      "text/plain": [
       "'1010'"
      ]
     },
     "execution_count": 4,
     "metadata": {},
     "output_type": "execute_result"
    }
   ],
   "source": [
    "decimal_2_binary(10)"
   ]
  },
  {
   "cell_type": "markdown",
   "id": "b146368b",
   "metadata": {},
   "source": [
    "(8) add n natural numbers\n",
    "\n",
    "![naturalnumber vs whole numbers](images/natural-and-whole-number.png)"
   ]
  },
  {
   "cell_type": "code",
   "execution_count": 6,
   "id": "3074608e",
   "metadata": {},
   "outputs": [],
   "source": [
    "def add_n_natural_numbers(n):\n",
    "    \n",
    "    if (n<=1):\n",
    "        return n\n",
    "    \n",
    "    return n + add_n_natural_numbers(n-1)"
   ]
  },
  {
   "cell_type": "code",
   "execution_count": 9,
   "id": "6fbaa962",
   "metadata": {},
   "outputs": [
    {
     "data": {
      "text/plain": [
       "10"
      ]
     },
     "execution_count": 9,
     "metadata": {},
     "output_type": "execute_result"
    }
   ],
   "source": [
    "add_n_natural_numbers(4)"
   ]
  }
 ],
 "metadata": {
  "kernelspec": {
   "display_name": "Python 3",
   "language": "python",
   "name": "python3"
  },
  "language_info": {
   "codemirror_mode": {
    "name": "ipython",
    "version": 3
   },
   "file_extension": ".py",
   "mimetype": "text/x-python",
   "name": "python",
   "nbconvert_exporter": "python",
   "pygments_lexer": "ipython3",
   "version": "3.6.9"
  }
 },
 "nbformat": 4,
 "nbformat_minor": 5
}
