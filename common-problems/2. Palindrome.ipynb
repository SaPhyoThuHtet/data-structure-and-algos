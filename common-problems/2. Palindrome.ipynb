{
 "cells": [
  {
   "cell_type": "code",
   "execution_count": 2,
   "id": "2af2e0b0",
   "metadata": {},
   "outputs": [],
   "source": [
    "string = \"anna\""
   ]
  },
  {
   "cell_type": "code",
   "execution_count": 12,
   "id": "d9fe8ab3",
   "metadata": {},
   "outputs": [],
   "source": [
    "import re\n",
    "def is_palindrome(string):\n",
    "    \n",
    "    start = 0\n",
    "    end   = len(string)-1\n",
    "    \n",
    "    # removing the white_space_characters\n",
    "    string = re.sub(r\"\\s\", r\" \", string)\n",
    "    \n",
    "    while start <= end:\n",
    "        if string[start] != string[end]:\n",
    "            return False\n",
    "            \n",
    "        start += 1\n",
    "        end   -= 1\n",
    "        \n",
    "    return True\n",
    "        \n",
    "        \n",
    "        "
   ]
  },
  {
   "cell_type": "code",
   "execution_count": 14,
   "id": "fdb8e3bf",
   "metadata": {},
   "outputs": [
    {
     "data": {
      "text/plain": [
       "True"
      ]
     },
     "execution_count": 14,
     "metadata": {},
     "output_type": "execute_result"
    }
   ],
   "source": [
    "is_palindrome(\"anna\")"
   ]
  },
  {
   "cell_type": "code",
   "execution_count": 17,
   "id": "9e379a6f",
   "metadata": {},
   "outputs": [],
   "source": [
    "# Second Approach\n",
    "def is_palindrome_with_built_in_reverse(string):\n",
    "    #reversing the string\n",
    "    reversed_string = string[::-1]\n",
    "    \n",
    "    if (string == reversed_string):\n",
    "        return True\n",
    "    \n",
    "    return False"
   ]
  },
  {
   "cell_type": "code",
   "execution_count": 20,
   "id": "83403823",
   "metadata": {},
   "outputs": [
    {
     "data": {
      "text/plain": [
       "True"
      ]
     },
     "execution_count": 20,
     "metadata": {},
     "output_type": "execute_result"
    }
   ],
   "source": [
    "test_sentence = \"\"\n",
    "#\"anna\"\n",
    "is_palindrome_with_built_in_reverse(test_sentence)"
   ]
  },
  {
   "cell_type": "code",
   "execution_count": 9,
   "id": "031bed08",
   "metadata": {},
   "outputs": [],
   "source": [
    "# Third Approach\n",
    "def is_palindrome_with_recursion(string):\n",
    "    \n",
    "    reversed_of_string = reverse_string(string)\n",
    "    \n",
    "    if (string == reversed_of_string):\n",
    "        return True\n",
    "    return False\n",
    "\n",
    "    \n",
    "    \n",
    "def reverse_string(string):\n",
    "    if len(string) < 2:\n",
    "        return string\n",
    "    \n",
    "    else:\n",
    "        return string[-1]+reverse_string(string[0:-1])\n",
    "    "
   ]
  },
  {
   "cell_type": "code",
   "execution_count": 10,
   "id": "3f55fbf2",
   "metadata": {},
   "outputs": [
    {
     "data": {
      "text/plain": [
       "True"
      ]
     },
     "execution_count": 10,
     "metadata": {},
     "output_type": "execute_result"
    }
   ],
   "source": [
    "is_palindrome_with_recursion(\"anna\")"
   ]
  },
  {
   "cell_type": "code",
   "execution_count": null,
   "id": "239e70ca",
   "metadata": {},
   "outputs": [],
   "source": []
  }
 ],
 "metadata": {
  "kernelspec": {
   "display_name": "Python 3",
   "language": "python",
   "name": "python3"
  },
  "language_info": {
   "codemirror_mode": {
    "name": "ipython",
    "version": 3
   },
   "file_extension": ".py",
   "mimetype": "text/x-python",
   "name": "python",
   "nbconvert_exporter": "python",
   "pygments_lexer": "ipython3",
   "version": "3.6.9"
  }
 },
 "nbformat": 4,
 "nbformat_minor": 5
}
