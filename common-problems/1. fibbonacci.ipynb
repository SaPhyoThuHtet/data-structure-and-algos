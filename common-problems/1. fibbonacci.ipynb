{
 "cells": [
  {
   "cell_type": "markdown",
   "id": "4a83786f",
   "metadata": {},
   "source": [
    " ### fibbonacci မှာ 0ဆို 0, 1 ဆို 1, 2ဆို n = 0 နဲ့ n = 1 ကို ပေါင်း \n",
    "\n",
    "n =\t0\t1\t2\t3\t4\t5\t6\t7\t8\t9\t10\t11\t12\t13\t14 ...\n",
    "    \n",
    "xn =\t0\t1\t1\t2\t3\t5\t8\t13\t21\t34\t55\t89\t144\t233\t377\t...\n"
   ]
  },
  {
   "cell_type": "code",
   "execution_count": 7,
   "id": "1e316f4e",
   "metadata": {},
   "outputs": [],
   "source": [
    "def fib(n):\n",
    "    \n",
    "    if (n<2):\n",
    "        return n\n",
    "    \n",
    "    first_previous, second_previous = 0, 1 #should use fib instead of second previous\n",
    "    \n",
    "    for i in range(2,n+1):\n",
    "        \n",
    "        first_previous, second_previous = second_previous,first_previous+second_previous\n",
    "    return second_previous"
   ]
  },
  {
   "cell_type": "code",
   "execution_count": 10,
   "id": "e70ac41a",
   "metadata": {},
   "outputs": [
    {
     "data": {
      "text/plain": [
       "5"
      ]
     },
     "execution_count": 10,
     "metadata": {},
     "output_type": "execute_result"
    }
   ],
   "source": [
    "fib (5)"
   ]
  },
  {
   "cell_type": "code",
   "execution_count": 11,
   "id": "8d28084a",
   "metadata": {},
   "outputs": [],
   "source": [
    "# another approach by using recursion\n",
    "\n",
    "def fib_recursion(n):\n",
    "    \n",
    "    if n < 2:\n",
    "        return n\n",
    "    \n",
    "    \n",
    "    return fib_recursion(n-1) + fib_recursion(n-2)"
   ]
  },
  {
   "cell_type": "code",
   "execution_count": 13,
   "id": "76868374",
   "metadata": {},
   "outputs": [
    {
     "data": {
      "text/plain": [
       "5"
      ]
     },
     "execution_count": 13,
     "metadata": {},
     "output_type": "execute_result"
    }
   ],
   "source": [
    "fib_recursion(5)"
   ]
  },
  {
   "cell_type": "code",
   "execution_count": null,
   "id": "919e5dfe",
   "metadata": {},
   "outputs": [],
   "source": []
  }
 ],
 "metadata": {
  "kernelspec": {
   "display_name": "Python 3",
   "language": "python",
   "name": "python3"
  },
  "language_info": {
   "codemirror_mode": {
    "name": "ipython",
    "version": 3
   },
   "file_extension": ".py",
   "mimetype": "text/x-python",
   "name": "python",
   "nbconvert_exporter": "python",
   "pygments_lexer": "ipython3",
   "version": "3.6.9"
  }
 },
 "nbformat": 4,
 "nbformat_minor": 5
}
